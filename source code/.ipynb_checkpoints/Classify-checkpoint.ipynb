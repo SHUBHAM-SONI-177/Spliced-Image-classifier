{
 "cells": [
  {
   "cell_type": "code",
   "execution_count": null,
   "metadata": {
    "id": "2uTPNFX0ZOI9"
   },
   "outputs": [],
   "source": [
    "import pickle\n",
    "import numpy as np\n",
    "from keras import optimizers\n",
    "from keras.models import Sequential\n",
    "from keras.layers import Dropout, Flatten, Dense\n",
    "\n",
    "import keras\n",
    "import keras.backend as K\n",
    "from keras.models import load_model\n",
    "from sklearn.model_selection import train_test_split"
   ]
  },
  {
   "cell_type": "code",
   "execution_count": null,
   "metadata": {
    "colab": {
     "base_uri": "https://localhost:8080/"
    },
    "id": "2k4ddn2iI3Kj",
    "outputId": "ff16a2d5-23a3-48db-9621-4efbd63c90d7"
   },
   "outputs": [
    {
     "name": "stdout",
     "output_type": "stream",
     "text": [
      "Drive already mounted at /content/drive; to attempt to forcibly remount, call drive.mount(\"/content/drive\", force_remount=True).\n"
     ]
    }
   ],
   "source": [
    "from google.colab import drive\n",
    "drive.mount('/content/drive')"
   ]
  },
  {
   "cell_type": "code",
   "execution_count": null,
   "metadata": {
    "id": "IgDLBP4wqxu1"
   },
   "outputs": [],
   "source": [
    "data = []\n",
    "tag = []"
   ]
  },
  {
   "cell_type": "code",
   "execution_count": null,
   "metadata": {
    "id": "G_Il2G3scaFF"
   },
   "outputs": [],
   "source": [
    "for i in range(0,16,1):\n",
    "    dic={}\n",
    "    file_link = \"/content/drive/My Drive/DUMPYARD GROUP 32/tastyPickle\" + str(i)\n",
    "    f=open(file_link, 'rb')\n",
    "    dic = pickle.load(f)\n",
    "    for x, y in zip(dic['data'], dic['tag']) :\n",
    "      data.append(x) \n",
    "      tag.append(y)\n",
    "data = np.array(data)\n",
    "tag = np.array(tag)"
   ]
  },
  {
   "cell_type": "code",
   "execution_count": null,
   "metadata": {
    "colab": {
     "base_uri": "https://localhost:8080/"
    },
    "id": "wUyM9WcnOJ7d",
    "outputId": "67fe2c1d-c457-425c-baef-c9db21ae0ede"
   },
   "outputs": [
    {
     "name": "stdout",
     "output_type": "stream",
     "text": [
      "(4232, 64, 64, 3)\n",
      "(471, 64, 64, 3)\n",
      "(4232,)\n",
      "(471,)\n"
     ]
    }
   ],
   "source": [
    "x_train, x_test, y_train, y_test = train_test_split(data, tag, test_size=0.1, random_state=12)\n",
    "print(x_train.shape)\n",
    "print(x_test.shape)\n",
    "print(y_train.shape)\n",
    "print(y_test.shape)"
   ]
  },
  {
   "cell_type": "code",
   "execution_count": null,
   "metadata": {
    "id": "Rt91WCansUvf"
   },
   "outputs": [],
   "source": []
  },
  {
   "cell_type": "code",
   "execution_count": null,
   "metadata": {
    "id": "syKq5hutrVcx"
   },
   "outputs": [],
   "source": []
  },
  {
   "cell_type": "code",
   "execution_count": null,
   "metadata": {
    "colab": {
     "base_uri": "https://localhost:8080/"
    },
    "id": "CafzPihFvNIg",
    "outputId": "3d33618c-4835-41f3-de44-3e5663403400"
   },
   "outputs": [
    {
     "name": "stdout",
     "output_type": "stream",
     "text": [
      "(4232, 64, 64, 3)\n"
     ]
    }
   ],
   "source": [
    "print(x_train.shape)"
   ]
  },
  {
   "cell_type": "code",
   "execution_count": null,
   "metadata": {
    "id": "6Gi0feOEb7hw"
   },
   "outputs": [],
   "source": [
    "class Custom_lr(keras.callbacks.Callback):\n",
    "\n",
    "    def on_train_begin(self, logs={}):\n",
    "\t    K.set_value(self.model.optimizer.lr, 0.00001)\n",
    " \n",
    "    def on_epoch_begin(self, epoch, logs={}):\n",
    "        lr_present=K.get_value(self.model.optimizer.lr)\n",
    "        #print(epoch)\n",
    "        if (epoch%10==0) and epoch:\n",
    "        \t\n",
    "            K.set_value(self.model.optimizer.lr, lr_present/((epoch)**0.5))\n",
    "            print(K.get_value(self.model.optimizer.lr))\n",
    "            print(lr_present/((epoch)**0.5))"
   ]
  },
  {
   "cell_type": "code",
   "execution_count": null,
   "metadata": {
    "id": "0SiBVtnpZxL-"
   },
   "outputs": [],
   "source": [
    "\n",
    "top_model=Sequential()\n",
    "top_model.add(Flatten(input_shape=np.array(x_train).shape[1:]))\n",
    "top_model.add(Dense(64, activation='relu'))\n",
    "top_model.add(Dropout(0.5))\n",
    "top_model.add(Dense(1, activation='sigmoid'))\n",
    "\n",
    "top_model.compile(optimizer='adam',\n",
    "              loss='binary_crossentropy',\n",
    "              metrics=['accuracy'])"
   ]
  },
  {
   "cell_type": "code",
   "execution_count": null,
   "metadata": {
    "id": "EU6iwIN4cRd0"
   },
   "outputs": [],
   "source": []
  },
  {
   "cell_type": "code",
   "execution_count": null,
   "metadata": {
    "colab": {
     "base_uri": "https://localhost:8080/"
    },
    "id": "DPXR2GITb6cf",
    "outputId": "8576f8ca-334b-4c2f-a500-7ca74b485d0e"
   },
   "outputs": [
    {
     "name": "stdout",
     "output_type": "stream",
     "text": [
      "Model: \"sequential_4\"\n",
      "_________________________________________________________________\n",
      "Layer (type)                 Output Shape              Param #   \n",
      "=================================================================\n",
      "flatten_4 (Flatten)          (None, 12288)             0         \n",
      "_________________________________________________________________\n",
      "dense_8 (Dense)              (None, 64)                786496    \n",
      "_________________________________________________________________\n",
      "dropout_4 (Dropout)          (None, 64)                0         \n",
      "_________________________________________________________________\n",
      "dense_9 (Dense)              (None, 1)                 65        \n",
      "=================================================================\n",
      "Total params: 786,561\n",
      "Trainable params: 786,561\n",
      "Non-trainable params: 0\n",
      "_________________________________________________________________\n"
     ]
    }
   ],
   "source": [
    "\n",
    "top_model.summary()"
   ]
  },
  {
   "cell_type": "code",
   "execution_count": null,
   "metadata": {
    "id": "X5eqTDlOcPpk"
   },
   "outputs": [],
   "source": [
    "callbacks = [\n",
    "\t    Custom_lr()\n",
    "\t]\n"
   ]
  },
  {
   "cell_type": "code",
   "execution_count": null,
   "metadata": {
    "colab": {
     "base_uri": "https://localhost:8080/"
    },
    "id": "tbTKurdUcT80",
    "outputId": "5d805380-4d36-46be-8abf-b97f1e335cf7"
   },
   "outputs": [
    {
     "name": "stdout",
     "output_type": "stream",
     "text": [
      "Epoch 1/50\n",
      "133/133 [==============================] - 1s 6ms/step - loss: 18.8370 - accuracy: 0.5803\n",
      "Epoch 2/50\n",
      "133/133 [==============================] - 1s 6ms/step - loss: 1.5070 - accuracy: 0.6212\n",
      "Epoch 3/50\n",
      "133/133 [==============================] - 1s 6ms/step - loss: 0.9830 - accuracy: 0.6226\n",
      "Epoch 4/50\n",
      "133/133 [==============================] - 1s 6ms/step - loss: 0.8267 - accuracy: 0.6285\n",
      "Epoch 5/50\n",
      "133/133 [==============================] - 1s 6ms/step - loss: 0.7859 - accuracy: 0.6319\n",
      "Epoch 6/50\n",
      "133/133 [==============================] - 1s 6ms/step - loss: 0.7485 - accuracy: 0.6281\n",
      "Epoch 7/50\n",
      "133/133 [==============================] - 1s 6ms/step - loss: 0.7526 - accuracy: 0.6269\n",
      "Epoch 8/50\n",
      "133/133 [==============================] - 1s 7ms/step - loss: 0.7245 - accuracy: 0.6359\n",
      "Epoch 9/50\n",
      "133/133 [==============================] - 1s 6ms/step - loss: 0.6977 - accuracy: 0.6283\n",
      "Epoch 10/50\n",
      "133/133 [==============================] - 1s 6ms/step - loss: 0.6748 - accuracy: 0.6451\n",
      "3.1622776e-06\n",
      "3.1622775802825263e-06\n",
      "Epoch 11/50\n",
      "133/133 [==============================] - 1s 6ms/step - loss: 0.6626 - accuracy: 0.6437\n",
      "Epoch 12/50\n",
      "133/133 [==============================] - 1s 6ms/step - loss: 0.6611 - accuracy: 0.6446\n",
      "Epoch 13/50\n",
      "133/133 [==============================] - 1s 7ms/step - loss: 0.6603 - accuracy: 0.6394\n",
      "Epoch 14/50\n",
      "133/133 [==============================] - 1s 6ms/step - loss: 0.6561 - accuracy: 0.6491\n",
      "Epoch 15/50\n",
      "133/133 [==============================] - 1s 6ms/step - loss: 0.6562 - accuracy: 0.6444\n",
      "Epoch 16/50\n",
      "133/133 [==============================] - 1s 6ms/step - loss: 0.6550 - accuracy: 0.6427\n",
      "Epoch 17/50\n",
      "133/133 [==============================] - 1s 6ms/step - loss: 0.6581 - accuracy: 0.6458\n",
      "Epoch 18/50\n",
      "133/133 [==============================] - 1s 6ms/step - loss: 0.6526 - accuracy: 0.6439\n",
      "Epoch 19/50\n",
      "133/133 [==============================] - 1s 6ms/step - loss: 0.6522 - accuracy: 0.6448\n",
      "Epoch 20/50\n",
      "133/133 [==============================] - 1s 6ms/step - loss: 0.6510 - accuracy: 0.6508\n",
      "7.071068e-07\n",
      "7.071067694701602e-07\n",
      "Epoch 21/50\n",
      "133/133 [==============================] - 1s 6ms/step - loss: 0.6416 - accuracy: 0.6474\n",
      "Epoch 22/50\n",
      "133/133 [==============================] - 1s 7ms/step - loss: 0.6464 - accuracy: 0.6456\n",
      "Epoch 23/50\n",
      "133/133 [==============================] - 1s 6ms/step - loss: 0.6469 - accuracy: 0.6496\n",
      "Epoch 24/50\n",
      "133/133 [==============================] - 1s 6ms/step - loss: 0.6430 - accuracy: 0.6439\n",
      "Epoch 25/50\n",
      "133/133 [==============================] - 1s 6ms/step - loss: 0.6487 - accuracy: 0.6444\n",
      "Epoch 26/50\n",
      "133/133 [==============================] - 1s 6ms/step - loss: 0.6476 - accuracy: 0.6460\n",
      "Epoch 27/50\n",
      "133/133 [==============================] - 1s 6ms/step - loss: 0.6439 - accuracy: 0.6453\n",
      "Epoch 28/50\n",
      "133/133 [==============================] - 1s 6ms/step - loss: 0.6419 - accuracy: 0.6470\n",
      "Epoch 29/50\n",
      "133/133 [==============================] - 1s 6ms/step - loss: 0.6390 - accuracy: 0.6576\n",
      "Epoch 30/50\n",
      "133/133 [==============================] - 1s 6ms/step - loss: 0.6445 - accuracy: 0.6451\n",
      "1.2909945e-07\n",
      "1.290994443764479e-07\n",
      "Epoch 31/50\n",
      "133/133 [==============================] - 1s 6ms/step - loss: 0.6375 - accuracy: 0.6453\n",
      "Epoch 32/50\n",
      "133/133 [==============================] - 1s 6ms/step - loss: 0.6449 - accuracy: 0.6446\n",
      "Epoch 33/50\n",
      "133/133 [==============================] - 1s 6ms/step - loss: 0.6499 - accuracy: 0.6493\n",
      "Epoch 34/50\n",
      "133/133 [==============================] - 1s 6ms/step - loss: 0.6477 - accuracy: 0.6496\n",
      "Epoch 35/50\n",
      "133/133 [==============================] - 1s 6ms/step - loss: 0.6490 - accuracy: 0.6453\n",
      "Epoch 36/50\n",
      "133/133 [==============================] - 1s 6ms/step - loss: 0.6391 - accuracy: 0.6465\n",
      "Epoch 37/50\n",
      "133/133 [==============================] - 1s 6ms/step - loss: 0.6480 - accuracy: 0.6529\n",
      "Epoch 38/50\n",
      "133/133 [==============================] - 1s 6ms/step - loss: 0.6392 - accuracy: 0.6519\n",
      "Epoch 39/50\n",
      "133/133 [==============================] - 1s 6ms/step - loss: 0.6365 - accuracy: 0.6484\n",
      "Epoch 40/50\n",
      "133/133 [==============================] - 1s 6ms/step - loss: 0.6394 - accuracy: 0.6524\n",
      "2.0412415e-08\n",
      "2.041241495058814e-08\n",
      "Epoch 41/50\n",
      "133/133 [==============================] - 1s 6ms/step - loss: 0.6405 - accuracy: 0.6512\n",
      "Epoch 42/50\n",
      "133/133 [==============================] - 1s 6ms/step - loss: 0.6338 - accuracy: 0.6512\n",
      "Epoch 43/50\n",
      "133/133 [==============================] - 1s 6ms/step - loss: 0.6383 - accuracy: 0.6571\n",
      "Epoch 44/50\n",
      "133/133 [==============================] - 1s 6ms/step - loss: 0.6431 - accuracy: 0.6432\n",
      "Epoch 45/50\n",
      "133/133 [==============================] - 1s 6ms/step - loss: 0.6370 - accuracy: 0.6569\n",
      "Epoch 46/50\n",
      "133/133 [==============================] - 1s 6ms/step - loss: 0.6446 - accuracy: 0.6522\n",
      "Epoch 47/50\n",
      "133/133 [==============================] - 1s 6ms/step - loss: 0.6342 - accuracy: 0.6486\n",
      "Epoch 48/50\n",
      "133/133 [==============================] - 1s 6ms/step - loss: 0.6456 - accuracy: 0.6465\n",
      "Epoch 49/50\n",
      "133/133 [==============================] - 1s 6ms/step - loss: 0.6422 - accuracy: 0.6500\n",
      "Epoch 50/50\n",
      "133/133 [==============================] - 1s 6ms/step - loss: 0.6296 - accuracy: 0.6597\n"
     ]
    },
    {
     "data": {
      "text/plain": [
       "<tensorflow.python.keras.callbacks.History at 0x7fb7149b8e48>"
      ]
     },
     "execution_count": 67,
     "metadata": {
      "tags": []
     },
     "output_type": "execute_result"
    }
   ],
   "source": [
    "\n",
    "top_model.fit(np.array(x_train\n",
    "), np.array(y_train),\n",
    "          epochs=50,\n",
    "          batch_size=32,\n",
    "          callbacks=callbacks)"
   ]
  },
  {
   "cell_type": "code",
   "execution_count": null,
   "metadata": {
    "colab": {
     "base_uri": "https://localhost:8080/"
    },
    "id": "S396Ur9YTbn2",
    "outputId": "6f416835-21b6-4ddd-ca52-c6b07f267e2f"
   },
   "outputs": [
    {
     "name": "stdout",
     "output_type": "stream",
     "text": [
      "[0 0 0 1 0 1 1 1 0 1 0 1 0 0 0 0 0 0 0 0 0 1 1 0 0 1 1 1 0 0 0 0 1 0 0 1 0\n",
      " 0 0 0 1 1 0 1 1 0 1 1 0 0 1 1 0 0 0 1 0 1 0 1 0 0 1 0 0 1 0 1 0 0 0 1 0 0\n",
      " 0 0 0 0 0 0 0 0 1 0 1 1 1 0 0 1 1 1 0 1 0 1 0 0 1 0 1 1 1 0 1 0 0 0 1 0 1\n",
      " 1 0 1 0 0 0 0 0 0 1 1 1 0 1 0 1 1 0 0 0 1 0 0 0 0 0 1 1 1 0 0 1 0 0 0 0 1\n",
      " 0 0 1 0 1 0 0 1 1 1 1 0 1 1 0 1 0 0 1 0 0 1 0 1 0 0 1 0 1 1 1 0 0 0 0 0 0\n",
      " 1 0 0 0 0 1 0 0 0 1 1 1 0 0 1 0 0 0 0 1 1 0 1 1 0 0 1 1 1 1 1 1 0 1 0 0 1\n",
      " 0 0 1 1 0 0 0 0 1 1 1 0 0 0 0 1 0 0 1 0 0 0 0 0 0 0 0 0 1 0 1 1 1 0 1 1 1\n",
      " 0 0 1 1 0 0 1 1 0 1 0 0 0 0 0 1 0 0 1 0 0 0 0 0 1 0 0 0 1 0 0 1 0 1 1 0 0\n",
      " 0 0 0 1 0 0 1 0 1 1 0 0 0 1 0 0 0 0 0 0 1 0 1 0 1 1 1 0 0 0 0 0 1 1 0 0 1\n",
      " 0 1 1 1 0 1 0 1 0 0 1 1 1 0 1 0 1 1 1 0 0 0 1 0 1 0 0 1 1 0 1 0 0 1 0 0 0\n",
      " 1 0 1 1 0 1 0 0 0 1 0 0 1 0 1 1 1 0 0 0 1 1 1 0 0 0 1 1 0 0 0 0 0 0 0 1 0\n",
      " 1 1 0 0 1 1 1 0 0 1 0 0 1 0 0 0 1 0 1 0 0 0 0 1 0 1 1 0 1 1 0 0 0 1 0 0 0\n",
      " 1 1 0 0 0 1 1 0 0 1 1 1 1 0 0 1 0 0 0 0 1 0 1 1 0 1 0]\n"
     ]
    }
   ],
   "source": [
    "print(y_test)"
   ]
  },
  {
   "cell_type": "code",
   "execution_count": null,
   "metadata": {
    "colab": {
     "base_uri": "https://localhost:8080/"
    },
    "id": "Pfti_mjacX35",
    "outputId": "2a3faba7-675a-4c4b-bb11-bad06448f7d0"
   },
   "outputs": [
    {
     "name": "stdout",
     "output_type": "stream",
     "text": [
      "0.6900212314225053\n"
     ]
    }
   ],
   "source": [
    "count = 0\n",
    "predictions = top_model.predict(x_test)\n",
    "for i in range(len(predictions)):\n",
    "  val = round(predictions[i][0])\n",
    "  #print(val, y_test[i]) \n",
    "  if val == y_test[i]:\n",
    "    count += 1\n",
    "print(count/len(x_test))\n"
   ]
  },
  {
   "cell_type": "code",
   "execution_count": null,
   "metadata": {
    "id": "ZAQJl0J86a2x"
   },
   "outputs": [],
   "source": []
  },
  {
   "cell_type": "code",
   "execution_count": null,
   "metadata": {
    "id": "3LWBrcq6gIjD"
   },
   "outputs": [],
   "source": [
    "# inputs and outputs"
   ]
  },
  {
   "cell_type": "code",
   "execution_count": null,
   "metadata": {
    "colab": {
     "base_uri": "https://localhost:8080/"
    },
    "id": "y5PFUzN9X8Bf",
    "outputId": "e0b732d4-6c35-4d5b-f04d-a58c6054c103"
   },
   "outputs": [
    {
     "name": "stdout",
     "output_type": "stream",
     "text": [
      "124\n",
      "44\n",
      "5\n"
     ]
    }
   ],
   "source": [
    "dic={}\n",
    "file_link = \"/content/drive/My Drive/DUMPYARD GROUP 32/testing_set/authentic/image_2/testingPickle_1\" \n",
    "f=open(file_link, 'rb')\n",
    "dic = pickle.load(f)\n",
    "collect = []\n",
    "for x in dic['data']:\n",
    "  collect.append(x)     \n",
    "collect = np.array(collect) \n",
    "predictions = top_model.predict(collect)\n",
    "predictions = np.round(predictions)\n",
    "print(np.sum(predictions == 0))\n",
    "print(np.sum(predictions == 1))\n",
    "max_chain = 0\n",
    "for i in range(len(predictions)):\n",
    "    if predictions[i] == 1:\n",
    "      count += 1\n",
    "      max_chain = max(max_chain, count)\n",
    "    else :\n",
    "      count = 0\n",
    "max_chain = max(max_chain, count)\n",
    "print(max_chain)"
   ]
  },
  {
   "cell_type": "code",
   "execution_count": null,
   "metadata": {
    "id": "jZpfzOccYHHi"
   },
   "outputs": [],
   "source": []
  }
 ],
 "metadata": {
  "colab": {
   "name": "Copy of Classify.ipynb",
   "provenance": []
  },
  "kernelspec": {
   "display_name": "Python 3",
   "language": "python",
   "name": "python3"
  },
  "language_info": {
   "codemirror_mode": {
    "name": "ipython",
    "version": 3
   },
   "file_extension": ".py",
   "mimetype": "text/x-python",
   "name": "python",
   "nbconvert_exporter": "python",
   "pygments_lexer": "ipython3",
   "version": "3.8.5"
  }
 },
 "nbformat": 4,
 "nbformat_minor": 1
}
