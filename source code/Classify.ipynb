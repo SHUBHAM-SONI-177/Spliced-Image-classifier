{
  "nbformat": 4,
  "nbformat_minor": 0,
  "metadata": {
    "colab": {
      "name": "Classify.ipynb",
      "provenance": [],
      "collapsed_sections": []
    },
    "kernelspec": {
      "display_name": "Python 3",
      "language": "python",
      "name": "python3"
    },
    "language_info": {
      "codemirror_mode": {
        "name": "ipython",
        "version": 3
      },
      "file_extension": ".py",
      "mimetype": "text/x-python",
      "name": "python",
      "nbconvert_exporter": "python",
      "pygments_lexer": "ipython3",
      "version": "3.8.5"
    }
  },
  "cells": [
    {
      "cell_type": "code",
      "metadata": {
        "id": "2uTPNFX0ZOI9"
      },
      "source": [
        "import pickle\n",
        "import numpy as np\n",
        "from keras import optimizers\n",
        "from keras.models import Sequential\n",
        "from keras.layers import Dropout, Flatten, Dense\n",
        " \n",
        "import keras\n",
        "import keras.backend as K\n",
        "from keras.models import load_model\n",
        "from sklearn.model_selection import train_test_split"
      ],
      "execution_count": 12,
      "outputs": []
    },
    {
      "cell_type": "code",
      "metadata": {
        "id": "2k4ddn2iI3Kj",
        "colab": {
          "base_uri": "https://localhost:8080/"
        },
        "outputId": "366e8b8e-9995-4e47-fe41-9bf0b66a7f45"
      },
      "source": [
        "from google.colab import drive\n",
        "drive.mount('/content/drive')"
      ],
      "execution_count": 13,
      "outputs": [
        {
          "output_type": "stream",
          "text": [
            "Drive already mounted at /content/drive; to attempt to forcibly remount, call drive.mount(\"/content/drive\", force_remount=True).\n"
          ],
          "name": "stdout"
        }
      ]
    },
    {
      "cell_type": "code",
      "metadata": {
        "id": "IgDLBP4wqxu1"
      },
      "source": [
        "data = []\n",
        "tag = []"
      ],
      "execution_count": 14,
      "outputs": []
    },
    {
      "cell_type": "code",
      "metadata": {
        "id": "G_Il2G3scaFF"
      },
      "source": [
        "for i in range(0,16,1):\n",
        "    dic={}\n",
        "    file_link = \"/content/drive/My Drive/DUMPYARD GROUP 32/tastyPickle\" + str(i)\n",
        "    f=open(file_link, 'rb')\n",
        "    dic = pickle.load(f)\n",
        "    for x, y in zip(dic['data'], dic['tag']) :\n",
        "      data.append(x) \n",
        "      tag.append(y)\n",
        "data = np.array(data)\n",
        "tag = np.array(tag)"
      ],
      "execution_count": 15,
      "outputs": []
    },
    {
      "cell_type": "code",
      "metadata": {
        "colab": {
          "base_uri": "https://localhost:8080/"
        },
        "id": "wUyM9WcnOJ7d",
        "outputId": "639bebcb-02ba-4cdd-b72f-8bbd401b7f02"
      },
      "source": [
        "x_train, x_test, y_train, y_test = train_test_split(data, tag, test_size=0.1, random_state=12)\n",
        "print(x_train.shape)\n",
        "print(x_test.shape)\n",
        "print(y_train.shape)\n",
        "print(y_test.shape)"
      ],
      "execution_count": 16,
      "outputs": [
        {
          "output_type": "stream",
          "text": [
            "(4232, 64, 64, 3)\n",
            "(471, 64, 64, 3)\n",
            "(4232,)\n",
            "(471,)\n"
          ],
          "name": "stdout"
        }
      ]
    },
    {
      "cell_type": "code",
      "metadata": {
        "id": "0SiBVtnpZxL-",
        "colab": {
          "base_uri": "https://localhost:8080/"
        },
        "outputId": "94d98ca0-4ae7-4e5c-dc06-ed493b6798fd"
      },
      "source": [
        "from keras.layers import  Conv2D, MaxPooling2D\n",
        "top_model = Sequential()\n",
        "top_model.add(Conv2D(16, kernel_size=(3,3), input_shape=np.array(x_train).shape[1:],activation='relu'))\n",
        "top_model.add(MaxPooling2D(pool_size=(2, 2)))\n",
        "top_model.add(Conv2D(32, kernel_size=(3,3), input_shape=np.array(x_train).shape[1:],activation='relu'))\n",
        "top_model.add(MaxPooling2D(pool_size=(2, 2)))\n",
        "top_model.add(Conv2D(64, kernel_size=(3,3), input_shape=np.array(x_train).shape[1:],activation='relu'))\n",
        "top_model.add(MaxPooling2D(pool_size=(2, 2)))\n",
        "top_model.add(Conv2D(64, kernel_size=(3,3), input_shape=np.array(x_train).shape[1:],activation='relu'))\n",
        "top_model.add(MaxPooling2D(pool_size=(2, 2)))\n",
        "top_model.add(Flatten(input_shape=np.array(x_train).shape[1:]))\n",
        "top_model.add(Dense(512, activation='relu'))\n",
        "top_model.add(Dropout(0.1))\n",
        "top_model.add(Dense(1, activation='sigmoid'))\n",
        "top_model.compile(optimizer='adam', loss='binary_crossentropy', metrics=['accuracy'])\n",
        "top_model.summary()"
      ],
      "execution_count": 17,
      "outputs": [
        {
          "output_type": "stream",
          "text": [
            "Model: \"sequential_1\"\n",
            "_________________________________________________________________\n",
            "Layer (type)                 Output Shape              Param #   \n",
            "=================================================================\n",
            "conv2d_4 (Conv2D)            (None, 62, 62, 16)        448       \n",
            "_________________________________________________________________\n",
            "max_pooling2d_4 (MaxPooling2 (None, 31, 31, 16)        0         \n",
            "_________________________________________________________________\n",
            "conv2d_5 (Conv2D)            (None, 29, 29, 32)        4640      \n",
            "_________________________________________________________________\n",
            "max_pooling2d_5 (MaxPooling2 (None, 14, 14, 32)        0         \n",
            "_________________________________________________________________\n",
            "conv2d_6 (Conv2D)            (None, 12, 12, 64)        18496     \n",
            "_________________________________________________________________\n",
            "max_pooling2d_6 (MaxPooling2 (None, 6, 6, 64)          0         \n",
            "_________________________________________________________________\n",
            "conv2d_7 (Conv2D)            (None, 4, 4, 64)          36928     \n",
            "_________________________________________________________________\n",
            "max_pooling2d_7 (MaxPooling2 (None, 2, 2, 64)          0         \n",
            "_________________________________________________________________\n",
            "flatten_1 (Flatten)          (None, 256)               0         \n",
            "_________________________________________________________________\n",
            "dense_2 (Dense)              (None, 512)               131584    \n",
            "_________________________________________________________________\n",
            "dropout_1 (Dropout)          (None, 512)               0         \n",
            "_________________________________________________________________\n",
            "dense_3 (Dense)              (None, 1)                 513       \n",
            "=================================================================\n",
            "Total params: 192,609\n",
            "Trainable params: 192,609\n",
            "Non-trainable params: 0\n",
            "_________________________________________________________________\n"
          ],
          "name": "stdout"
        }
      ]
    },
    {
      "cell_type": "code",
      "metadata": {
        "colab": {
          "base_uri": "https://localhost:8080/"
        },
        "id": "tbTKurdUcT80",
        "outputId": "db09be10-7ef5-4d4f-d287-467c29ce8f8d"
      },
      "source": [
        "top_model.fit(x=np.array(x_train),y=np.array(y_train),epochs=50)"
      ],
      "execution_count": 18,
      "outputs": [
        {
          "output_type": "stream",
          "text": [
            "Epoch 1/50\n",
            "133/133 [==============================] - 13s 101ms/step - loss: 0.8772 - accuracy: 0.6399\n",
            "Epoch 2/50\n",
            "133/133 [==============================] - 13s 101ms/step - loss: 0.6118 - accuracy: 0.6871\n",
            "Epoch 3/50\n",
            "133/133 [==============================] - 13s 101ms/step - loss: 0.5863 - accuracy: 0.6992\n",
            "Epoch 4/50\n",
            "133/133 [==============================] - 13s 101ms/step - loss: 0.5752 - accuracy: 0.7143\n",
            "Epoch 5/50\n",
            "133/133 [==============================] - 13s 100ms/step - loss: 0.5566 - accuracy: 0.7186\n",
            "Epoch 6/50\n",
            "133/133 [==============================] - 13s 101ms/step - loss: 0.5433 - accuracy: 0.7401\n",
            "Epoch 7/50\n",
            "133/133 [==============================] - 13s 101ms/step - loss: 0.5298 - accuracy: 0.7472\n",
            "Epoch 8/50\n",
            "133/133 [==============================] - 13s 100ms/step - loss: 0.5258 - accuracy: 0.7483\n",
            "Epoch 9/50\n",
            "133/133 [==============================] - 13s 100ms/step - loss: 0.5250 - accuracy: 0.7543\n",
            "Epoch 10/50\n",
            "133/133 [==============================] - 13s 101ms/step - loss: 0.5085 - accuracy: 0.7540\n",
            "Epoch 11/50\n",
            "133/133 [==============================] - 14s 102ms/step - loss: 0.4846 - accuracy: 0.7647\n",
            "Epoch 12/50\n",
            "133/133 [==============================] - 13s 101ms/step - loss: 0.4867 - accuracy: 0.7680\n",
            "Epoch 13/50\n",
            "133/133 [==============================] - 13s 100ms/step - loss: 0.4905 - accuracy: 0.7691\n",
            "Epoch 14/50\n",
            "133/133 [==============================] - 13s 100ms/step - loss: 0.4852 - accuracy: 0.7720\n",
            "Epoch 15/50\n",
            "133/133 [==============================] - 13s 101ms/step - loss: 0.4809 - accuracy: 0.7675\n",
            "Epoch 16/50\n",
            "133/133 [==============================] - 13s 100ms/step - loss: 0.4603 - accuracy: 0.7831\n",
            "Epoch 17/50\n",
            "133/133 [==============================] - 13s 98ms/step - loss: 0.4525 - accuracy: 0.7873\n",
            "Epoch 18/50\n",
            "133/133 [==============================] - 17s 130ms/step - loss: 0.4484 - accuracy: 0.7921\n",
            "Epoch 19/50\n",
            "133/133 [==============================] - 13s 100ms/step - loss: 0.4672 - accuracy: 0.7836\n",
            "Epoch 20/50\n",
            "133/133 [==============================] - 13s 100ms/step - loss: 0.4661 - accuracy: 0.7779\n",
            "Epoch 21/50\n",
            "133/133 [==============================] - 13s 100ms/step - loss: 0.4324 - accuracy: 0.8022\n",
            "Epoch 22/50\n",
            "133/133 [==============================] - 13s 100ms/step - loss: 0.4182 - accuracy: 0.8008\n",
            "Epoch 23/50\n",
            "133/133 [==============================] - 13s 100ms/step - loss: 0.4258 - accuracy: 0.8058\n",
            "Epoch 24/50\n",
            "133/133 [==============================] - 13s 100ms/step - loss: 0.4155 - accuracy: 0.8084\n",
            "Epoch 25/50\n",
            "133/133 [==============================] - 13s 100ms/step - loss: 0.4182 - accuracy: 0.8069\n",
            "Epoch 26/50\n",
            "133/133 [==============================] - 13s 100ms/step - loss: 0.4112 - accuracy: 0.8129\n",
            "Epoch 27/50\n",
            "133/133 [==============================] - 13s 100ms/step - loss: 0.4033 - accuracy: 0.8183\n",
            "Epoch 28/50\n",
            "133/133 [==============================] - 13s 101ms/step - loss: 0.4002 - accuracy: 0.8188\n",
            "Epoch 29/50\n",
            "133/133 [==============================] - 13s 100ms/step - loss: 0.4117 - accuracy: 0.8147\n",
            "Epoch 30/50\n",
            "133/133 [==============================] - 13s 100ms/step - loss: 0.3824 - accuracy: 0.8325\n",
            "Epoch 31/50\n",
            "133/133 [==============================] - 13s 100ms/step - loss: 0.3888 - accuracy: 0.8296\n",
            "Epoch 32/50\n",
            "133/133 [==============================] - 13s 100ms/step - loss: 0.3589 - accuracy: 0.8372\n",
            "Epoch 33/50\n",
            "133/133 [==============================] - 13s 100ms/step - loss: 0.3688 - accuracy: 0.8325\n",
            "Epoch 34/50\n",
            "133/133 [==============================] - 14s 102ms/step - loss: 0.3496 - accuracy: 0.8497\n",
            "Epoch 35/50\n",
            "133/133 [==============================] - 13s 101ms/step - loss: 0.4306 - accuracy: 0.8138\n",
            "Epoch 36/50\n",
            "133/133 [==============================] - 13s 100ms/step - loss: 0.3998 - accuracy: 0.8178\n",
            "Epoch 37/50\n",
            "133/133 [==============================] - 13s 100ms/step - loss: 0.3645 - accuracy: 0.8360\n",
            "Epoch 38/50\n",
            "133/133 [==============================] - 13s 101ms/step - loss: 0.3345 - accuracy: 0.8523\n",
            "Epoch 39/50\n",
            "133/133 [==============================] - 13s 99ms/step - loss: 0.3419 - accuracy: 0.8492\n",
            "Epoch 40/50\n",
            "133/133 [==============================] - 13s 100ms/step - loss: 0.3185 - accuracy: 0.8627\n",
            "Epoch 41/50\n",
            "133/133 [==============================] - 13s 100ms/step - loss: 0.3227 - accuracy: 0.8618\n",
            "Epoch 42/50\n",
            "133/133 [==============================] - 13s 100ms/step - loss: 0.3182 - accuracy: 0.8651\n",
            "Epoch 43/50\n",
            "133/133 [==============================] - 13s 100ms/step - loss: 0.3268 - accuracy: 0.8582\n",
            "Epoch 44/50\n",
            "133/133 [==============================] - 13s 99ms/step - loss: 0.3603 - accuracy: 0.8500\n",
            "Epoch 45/50\n",
            "133/133 [==============================] - 13s 99ms/step - loss: 0.3480 - accuracy: 0.8507\n",
            "Epoch 46/50\n",
            "133/133 [==============================] - 13s 100ms/step - loss: 0.3291 - accuracy: 0.8622\n",
            "Epoch 47/50\n",
            "133/133 [==============================] - 13s 100ms/step - loss: 0.3028 - accuracy: 0.8722\n",
            "Epoch 48/50\n",
            "133/133 [==============================] - 13s 100ms/step - loss: 0.3077 - accuracy: 0.8686\n",
            "Epoch 49/50\n",
            "133/133 [==============================] - 14s 107ms/step - loss: 0.3183 - accuracy: 0.8710\n",
            "Epoch 50/50\n",
            "133/133 [==============================] - 13s 99ms/step - loss: 0.2862 - accuracy: 0.8833\n"
          ],
          "name": "stdout"
        },
        {
          "output_type": "execute_result",
          "data": {
            "text/plain": [
              "<tensorflow.python.keras.callbacks.History at 0x7f537ae56748>"
            ]
          },
          "metadata": {
            "tags": []
          },
          "execution_count": 18
        }
      ]
    },
    {
      "cell_type": "code",
      "metadata": {
        "colab": {
          "base_uri": "https://localhost:8080/"
        },
        "id": "Pfti_mjacX35",
        "outputId": "6fefb436-c445-4863-b1e2-ff6a9289cb68"
      },
      "source": [
        "count = 0\n",
        "predictions = top_model.predict(x_test)\n",
        "for i in range(len(predictions)):\n",
        "  val = round(predictions[i][0])\n",
        "  #print(val, y_test[i]) \n",
        "  if val == y_test[i]:\n",
        "    count += 1\n",
        "print(count/len(x_test))\n"
      ],
      "execution_count": 19,
      "outputs": [
        {
          "output_type": "stream",
          "text": [
            "0.7303609341825902\n"
          ],
          "name": "stdout"
        }
      ]
    },
    {
      "cell_type": "code",
      "metadata": {
        "colab": {
          "base_uri": "https://localhost:8080/"
        },
        "id": "y5PFUzN9X8Bf",
        "outputId": "8842e6c1-cece-4ce2-c62f-4bf8785be87f"
      },
      "source": [
        "dic={}\n",
        "file_link = \"/content/drive/My Drive/DUMPYARD GROUP 32/testing_set/authentic/image_2/testingPickle_1\"\n",
        "f=open(file_link, 'rb')\n",
        "dic = pickle.load(f)\n",
        "collect = []\n",
        "for x in dic['data']:\n",
        "  collect.append(x)     \n",
        "collect = np.array(collect) \n",
        "predictions = top_model.predict(collect)\n",
        "predictions = np.round(predictions)\n",
        "print(np.sum(predictions == 0))\n",
        "print(np.sum(predictions == 1))\n",
        "max_chain = 0\n",
        "for i in range(len(predictions)):\n",
        "    if predictions[i] == 1:\n",
        "      count += 1\n",
        "      max_chain = max(max_chain, count)\n",
        "    else :\n",
        "      count = 0\n",
        "max_chain = max(max_chain, count)\n",
        "print(max_chain)"
      ],
      "execution_count": 20,
      "outputs": [
        {
          "output_type": "stream",
          "text": [
            "137\n",
            "31\n",
            "3\n"
          ],
          "name": "stdout"
        }
      ]
    }
  ]
}